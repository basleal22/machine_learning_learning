{
 "cells": [
  {
   "cell_type": "code",
   "execution_count": 1,
   "id": "c3adcb25",
   "metadata": {
    "_cell_guid": "b1076dfc-b9ad-4769-8c92-a6c4dae69d19",
    "_uuid": "8f2839f25d086af736a60e9eeb907d3b93b6e0e5",
    "execution": {
     "iopub.execute_input": "2024-10-29T12:44:31.727350Z",
     "iopub.status.busy": "2024-10-29T12:44:31.726986Z",
     "iopub.status.idle": "2024-10-29T12:44:32.445631Z",
     "shell.execute_reply": "2024-10-29T12:44:32.444699Z"
    },
    "papermill": {
     "duration": 0.726727,
     "end_time": "2024-10-29T12:44:32.447836",
     "exception": false,
     "start_time": "2024-10-29T12:44:31.721109",
     "status": "completed"
    },
    "tags": []
   },
   "outputs": [
    {
     "name": "stdout",
     "output_type": "stream",
     "text": [
      "/kaggle/input/home-data-for-ml-course/sample_submission.csv\n",
      "/kaggle/input/home-data-for-ml-course/sample_submission.csv.gz\n",
      "/kaggle/input/home-data-for-ml-course/train.csv.gz\n",
      "/kaggle/input/home-data-for-ml-course/data_description.txt\n",
      "/kaggle/input/home-data-for-ml-course/test.csv.gz\n",
      "/kaggle/input/home-data-for-ml-course/train.csv\n",
      "/kaggle/input/home-data-for-ml-course/test.csv\n"
     ]
    }
   ],
   "source": [
    "# This Python 3 environment comes with many helpful analytics libraries installed\n",
    "# It is defined by the kaggle/python Docker image: https://github.com/kaggle/docker-python\n",
    "# For example, here's several helpful packages to load\n",
    "\n",
    "import numpy as np # linear algebra\n",
    "import pandas as pd # data processing, CSV file I/O (e.g. pd.read_csv)\n",
    "\n",
    "# Input data files are available in the read-only \"../input/\" directory\n",
    "# For example, running this (by clicking run or pressing Shift+Enter) will list all files under the input directory\n",
    "\n",
    "import os\n",
    "for dirname, _, filenames in os.walk('/kaggle/input'):\n",
    "    for filename in filenames:\n",
    "        print(os.path.join(dirname, filename))\n",
    "\n",
    "# You can write up to 20GB to the current directory (/kaggle/working/) that gets preserved as output when you create a version using \"Save & Run All\" \n",
    "# You can also write temporary files to /kaggle/temp/, but they won't be saved outside of the current session"
   ]
  },
  {
   "cell_type": "markdown",
   "id": "0a3cbeed",
   "metadata": {
    "papermill": {
     "duration": 0.003784,
     "end_time": "2024-10-29T12:44:32.455992",
     "exception": false,
     "start_time": "2024-10-29T12:44:32.452208",
     "status": "completed"
    },
    "tags": []
   },
   "source": [
    "# **Loading the dataset and initializing it** "
   ]
  },
  {
   "cell_type": "code",
   "execution_count": 2,
   "id": "21199c60",
   "metadata": {
    "execution": {
     "iopub.execute_input": "2024-10-29T12:44:32.465569Z",
     "iopub.status.busy": "2024-10-29T12:44:32.464902Z",
     "iopub.status.idle": "2024-10-29T12:44:32.542491Z",
     "shell.execute_reply": "2024-10-29T12:44:32.541702Z"
    },
    "papermill": {
     "duration": 0.084973,
     "end_time": "2024-10-29T12:44:32.544814",
     "exception": false,
     "start_time": "2024-10-29T12:44:32.459841",
     "status": "completed"
    },
    "tags": []
   },
   "outputs": [],
   "source": [
    "#since the data has already been set as training and test set we can initialize them separately\n",
    "home_data_train= pd.read_csv(\"/kaggle/input/home-data-for-ml-course/train.csv\")\n",
    "home_data_test= pd.read_csv(\"/kaggle/input/home-data-for-ml-course/test.csv\")\n",
    "features=['MSSubClass','LotArea','OverallQual','OverallCond','YearBuilt','YearRemodAdd','1stFlrSF','2ndFlrSF','LowQualFinSF','GrLivArea','FullBath','HalfBath','BedroomAbvGr','KitchenAbvGr','TotRmsAbvGrd','Fireplaces','WoodDeckSF','OpenPorchSF','EnclosedPorch','3SsnPorch','ScreenPorch','PoolArea','MiscVal','MoSold','YrSold']\n",
    "X=home_data_train[features]\n",
    "y=home_data_train.SalePrice\n",
    "X_test=home_data_test[features]"
   ]
  },
  {
   "cell_type": "markdown",
   "id": "dcb759df",
   "metadata": {
    "papermill": {
     "duration": 0.004069,
     "end_time": "2024-10-29T12:44:32.554161",
     "exception": false,
     "start_time": "2024-10-29T12:44:32.550092",
     "status": "completed"
    },
    "tags": []
   },
   "source": [
    "# **Spliting the training set into train set and validation set**"
   ]
  },
  {
   "cell_type": "code",
   "execution_count": 3,
   "id": "2d368db0",
   "metadata": {
    "execution": {
     "iopub.execute_input": "2024-10-29T12:44:32.563586Z",
     "iopub.status.busy": "2024-10-29T12:44:32.563279Z",
     "iopub.status.idle": "2024-10-29T12:44:33.710721Z",
     "shell.execute_reply": "2024-10-29T12:44:33.709673Z"
    },
    "papermill": {
     "duration": 1.155144,
     "end_time": "2024-10-29T12:44:33.713540",
     "exception": false,
     "start_time": "2024-10-29T12:44:32.558396",
     "status": "completed"
    },
    "tags": []
   },
   "outputs": [],
   "source": [
    "from sklearn.model_selection import train_test_split\n",
    "train_X,val_X,train_y,val_y=train_test_split(X,y,random_state=1)"
   ]
  },
  {
   "cell_type": "markdown",
   "id": "5d745179",
   "metadata": {
    "papermill": {
     "duration": 0.004074,
     "end_time": "2024-10-29T12:44:33.721896",
     "exception": false,
     "start_time": "2024-10-29T12:44:33.717822",
     "status": "completed"
    },
    "tags": []
   },
   "source": [
    "# **Choosing and Using a model to fit our data**"
   ]
  },
  {
   "cell_type": "code",
   "execution_count": 4,
   "id": "6e13f74b",
   "metadata": {
    "execution": {
     "iopub.execute_input": "2024-10-29T12:44:33.730802Z",
     "iopub.status.busy": "2024-10-29T12:44:33.730055Z",
     "iopub.status.idle": "2024-10-29T12:44:34.812237Z",
     "shell.execute_reply": "2024-10-29T12:44:34.811165Z"
    },
    "papermill": {
     "duration": 1.089029,
     "end_time": "2024-10-29T12:44:34.814509",
     "exception": false,
     "start_time": "2024-10-29T12:44:33.725480",
     "status": "completed"
    },
    "tags": []
   },
   "outputs": [
    {
     "data": {
      "text/html": [
       "<style>#sk-container-id-1 {color: black;background-color: white;}#sk-container-id-1 pre{padding: 0;}#sk-container-id-1 div.sk-toggleable {background-color: white;}#sk-container-id-1 label.sk-toggleable__label {cursor: pointer;display: block;width: 100%;margin-bottom: 0;padding: 0.3em;box-sizing: border-box;text-align: center;}#sk-container-id-1 label.sk-toggleable__label-arrow:before {content: \"▸\";float: left;margin-right: 0.25em;color: #696969;}#sk-container-id-1 label.sk-toggleable__label-arrow:hover:before {color: black;}#sk-container-id-1 div.sk-estimator:hover label.sk-toggleable__label-arrow:before {color: black;}#sk-container-id-1 div.sk-toggleable__content {max-height: 0;max-width: 0;overflow: hidden;text-align: left;background-color: #f0f8ff;}#sk-container-id-1 div.sk-toggleable__content pre {margin: 0.2em;color: black;border-radius: 0.25em;background-color: #f0f8ff;}#sk-container-id-1 input.sk-toggleable__control:checked~div.sk-toggleable__content {max-height: 200px;max-width: 100%;overflow: auto;}#sk-container-id-1 input.sk-toggleable__control:checked~label.sk-toggleable__label-arrow:before {content: \"▾\";}#sk-container-id-1 div.sk-estimator input.sk-toggleable__control:checked~label.sk-toggleable__label {background-color: #d4ebff;}#sk-container-id-1 div.sk-label input.sk-toggleable__control:checked~label.sk-toggleable__label {background-color: #d4ebff;}#sk-container-id-1 input.sk-hidden--visually {border: 0;clip: rect(1px 1px 1px 1px);clip: rect(1px, 1px, 1px, 1px);height: 1px;margin: -1px;overflow: hidden;padding: 0;position: absolute;width: 1px;}#sk-container-id-1 div.sk-estimator {font-family: monospace;background-color: #f0f8ff;border: 1px dotted black;border-radius: 0.25em;box-sizing: border-box;margin-bottom: 0.5em;}#sk-container-id-1 div.sk-estimator:hover {background-color: #d4ebff;}#sk-container-id-1 div.sk-parallel-item::after {content: \"\";width: 100%;border-bottom: 1px solid gray;flex-grow: 1;}#sk-container-id-1 div.sk-label:hover label.sk-toggleable__label {background-color: #d4ebff;}#sk-container-id-1 div.sk-serial::before {content: \"\";position: absolute;border-left: 1px solid gray;box-sizing: border-box;top: 0;bottom: 0;left: 50%;z-index: 0;}#sk-container-id-1 div.sk-serial {display: flex;flex-direction: column;align-items: center;background-color: white;padding-right: 0.2em;padding-left: 0.2em;position: relative;}#sk-container-id-1 div.sk-item {position: relative;z-index: 1;}#sk-container-id-1 div.sk-parallel {display: flex;align-items: stretch;justify-content: center;background-color: white;position: relative;}#sk-container-id-1 div.sk-item::before, #sk-container-id-1 div.sk-parallel-item::before {content: \"\";position: absolute;border-left: 1px solid gray;box-sizing: border-box;top: 0;bottom: 0;left: 50%;z-index: -1;}#sk-container-id-1 div.sk-parallel-item {display: flex;flex-direction: column;z-index: 1;position: relative;background-color: white;}#sk-container-id-1 div.sk-parallel-item:first-child::after {align-self: flex-end;width: 50%;}#sk-container-id-1 div.sk-parallel-item:last-child::after {align-self: flex-start;width: 50%;}#sk-container-id-1 div.sk-parallel-item:only-child::after {width: 0;}#sk-container-id-1 div.sk-dashed-wrapped {border: 1px dashed gray;margin: 0 0.4em 0.5em 0.4em;box-sizing: border-box;padding-bottom: 0.4em;background-color: white;}#sk-container-id-1 div.sk-label label {font-family: monospace;font-weight: bold;display: inline-block;line-height: 1.2em;}#sk-container-id-1 div.sk-label-container {text-align: center;}#sk-container-id-1 div.sk-container {/* jupyter's `normalize.less` sets `[hidden] { display: none; }` but bootstrap.min.css set `[hidden] { display: none !important; }` so we also need the `!important` here to be able to override the default hidden behavior on the sphinx rendered scikit-learn.org. See: https://github.com/scikit-learn/scikit-learn/issues/21755 */display: inline-block !important;position: relative;}#sk-container-id-1 div.sk-text-repr-fallback {display: none;}</style><div id=\"sk-container-id-1\" class=\"sk-top-container\"><div class=\"sk-text-repr-fallback\"><pre>RandomForestRegressor(random_state=1)</pre><b>In a Jupyter environment, please rerun this cell to show the HTML representation or trust the notebook. <br />On GitHub, the HTML representation is unable to render, please try loading this page with nbviewer.org.</b></div><div class=\"sk-container\" hidden><div class=\"sk-item\"><div class=\"sk-estimator sk-toggleable\"><input class=\"sk-toggleable__control sk-hidden--visually\" id=\"sk-estimator-id-1\" type=\"checkbox\" checked><label for=\"sk-estimator-id-1\" class=\"sk-toggleable__label sk-toggleable__label-arrow\">RandomForestRegressor</label><div class=\"sk-toggleable__content\"><pre>RandomForestRegressor(random_state=1)</pre></div></div></div></div></div>"
      ],
      "text/plain": [
       "RandomForestRegressor(random_state=1)"
      ]
     },
     "execution_count": 4,
     "metadata": {},
     "output_type": "execute_result"
    }
   ],
   "source": [
    "from sklearn.ensemble import RandomForestRegressor\n",
    "from sklearn.metrics import mean_absolute_error\n",
    "model_1 = RandomForestRegressor(random_state=1)\n",
    "model_1.fit(train_X,train_y)"
   ]
  },
  {
   "cell_type": "code",
   "execution_count": 5,
   "id": "c5bf54f2",
   "metadata": {
    "execution": {
     "iopub.execute_input": "2024-10-29T12:44:34.824332Z",
     "iopub.status.busy": "2024-10-29T12:44:34.824002Z",
     "iopub.status.idle": "2024-10-29T12:44:34.841649Z",
     "shell.execute_reply": "2024-10-29T12:44:34.840485Z"
    },
    "papermill": {
     "duration": 0.024735,
     "end_time": "2024-10-29T12:44:34.843606",
     "exception": false,
     "start_time": "2024-10-29T12:44:34.818871",
     "status": "completed"
    },
    "tags": []
   },
   "outputs": [
    {
     "name": "stdout",
     "output_type": "stream",
     "text": [
      "The mean absolute error on the validation set is: 17905.8978630137\n"
     ]
    }
   ],
   "source": [
    "model_1_predict = model_1.predict(val_X)\n",
    "val_mae=mean_absolute_error(model_1_predict,val_y)\n",
    "print(\"The mean absolute error on the validation set is:\", val_mae)\n"
   ]
  },
  {
   "cell_type": "code",
   "execution_count": 6,
   "id": "032541ac",
   "metadata": {
    "execution": {
     "iopub.execute_input": "2024-10-29T12:44:34.853066Z",
     "iopub.status.busy": "2024-10-29T12:44:34.852742Z",
     "iopub.status.idle": "2024-10-29T12:44:37.564560Z",
     "shell.execute_reply": "2024-10-29T12:44:37.563453Z"
    },
    "papermill": {
     "duration": 2.719104,
     "end_time": "2024-10-29T12:44:37.566791",
     "exception": false,
     "start_time": "2024-10-29T12:44:34.847687",
     "status": "completed"
    },
    "tags": []
   },
   "outputs": [
    {
     "name": "stdout",
     "output_type": "stream",
     "text": [
      "the mean absolute error on for model_2 is:  22320.783561643835\n"
     ]
    }
   ],
   "source": [
    "from sklearn.ensemble import RandomForestClassifier\n",
    "model_2=RandomForestClassifier(random_state=1)\n",
    "model_2.fit(train_X,train_y)\n",
    "model_2_predict=model_2.predict(val_X)\n",
    "#print(model_2_predict,model_1_predict)\n",
    "val_mae_2=mean_absolute_error(model_2_predict,val_y)\n",
    "print(\"the mean absolute error on for model_2 is: \",val_mae_2)"
   ]
  },
  {
   "cell_type": "markdown",
   "id": "8beb639f",
   "metadata": {
    "papermill": {
     "duration": 0.004301,
     "end_time": "2024-10-29T12:44:37.575811",
     "exception": false,
     "start_time": "2024-10-29T12:44:37.571510",
     "status": "completed"
    },
    "tags": []
   },
   "source": [
    "# Checking on the test set"
   ]
  },
  {
   "cell_type": "code",
   "execution_count": 7,
   "id": "65b40172",
   "metadata": {
    "execution": {
     "iopub.execute_input": "2024-10-29T12:44:37.586259Z",
     "iopub.status.busy": "2024-10-29T12:44:37.585916Z",
     "iopub.status.idle": "2024-10-29T12:44:38.710386Z",
     "shell.execute_reply": "2024-10-29T12:44:38.709621Z"
    },
    "papermill": {
     "duration": 1.132965,
     "end_time": "2024-10-29T12:44:38.712786",
     "exception": false,
     "start_time": "2024-10-29T12:44:37.579821",
     "status": "completed"
    },
    "tags": []
   },
   "outputs": [],
   "source": [
    "model_fulldata=RandomForestRegressor(random_state=1)\n",
    "model_fulldata.fit(X,y)\n",
    "test_predict=model_fulldata.predict(X_test)"
   ]
  },
  {
   "cell_type": "code",
   "execution_count": 8,
   "id": "5ea53904",
   "metadata": {
    "execution": {
     "iopub.execute_input": "2024-10-29T12:44:38.722999Z",
     "iopub.status.busy": "2024-10-29T12:44:38.722710Z",
     "iopub.status.idle": "2024-10-29T12:44:38.733560Z",
     "shell.execute_reply": "2024-10-29T12:44:38.732859Z"
    },
    "papermill": {
     "duration": 0.01811,
     "end_time": "2024-10-29T12:44:38.735496",
     "exception": false,
     "start_time": "2024-10-29T12:44:38.717386",
     "status": "completed"
    },
    "tags": []
   },
   "outputs": [],
   "source": [
    "output = pd.DataFrame({'Id': home_data_test.Id,\n",
    "                       'SalePrice': test_predict})\n",
    "output.to_csv('submission.csv', index=False)"
   ]
  }
 ],
 "metadata": {
  "kaggle": {
   "accelerator": "none",
   "dataSources": [
    {
     "databundleVersionId": 111096,
     "sourceId": 10211,
     "sourceType": "competition"
    }
   ],
   "dockerImageVersionId": 30786,
   "isGpuEnabled": false,
   "isInternetEnabled": true,
   "language": "python",
   "sourceType": "notebook"
  },
  "kernelspec": {
   "display_name": "Python 3",
   "language": "python",
   "name": "python3"
  },
  "language_info": {
   "codemirror_mode": {
    "name": "ipython",
    "version": 3
   },
   "file_extension": ".py",
   "mimetype": "text/x-python",
   "name": "python",
   "nbconvert_exporter": "python",
   "pygments_lexer": "ipython3",
   "version": "3.10.14"
  },
  "papermill": {
   "default_parameters": {},
   "duration": 9.995614,
   "end_time": "2024-10-29T12:44:39.258512",
   "environment_variables": {},
   "exception": null,
   "input_path": "__notebook__.ipynb",
   "output_path": "__notebook__.ipynb",
   "parameters": {},
   "start_time": "2024-10-29T12:44:29.262898",
   "version": "2.6.0"
  }
 },
 "nbformat": 4,
 "nbformat_minor": 5
}
